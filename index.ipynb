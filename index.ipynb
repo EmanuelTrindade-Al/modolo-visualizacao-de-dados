import pandas as pd
import matplotlib.pyplot as plt
import seaborn as sns


df = pd.read_csv(r"C:\Users\emanu\OneDrive\Documentos\ecommerce\ecommerce_preparados.csv")


df['N_Avaliações'] = pd.to_numeric(df['N_Avaliações'], errors='coerce')
df['Preço'] = pd.to_numeric(df['Preço'], errors='coerce')


df = df.dropna(subset=['Preço', 'N_Avaliações'])

fig, axes = plt.subplots(2, 2, figsize=(14, 10))  

sns.histplot(df['Nota'], bins=30, kde=True, ax=axes[0, 0])
axes[0, 0].set_title('Histograma')


sns.scatterplot(x=df['N_Avaliações'], y=df['Preço'], ax=axes[0, 1])
axes[0, 1].set_title('Gráfico de Dispersão')


sns.heatmap(df.select_dtypes(include=['number']).corr(), annot=True, cmap='coolwarm', fmt='.2f', ax=axes[1, 0])
axes[1, 0].set_title('Mapa de Calor')


sns.barplot(x=df['Marca'], y=df['Preço'], ax=axes[1, 1])
axes[1, 1].set_title('Gráfico de Barra')
axes[1, 1].tick_params(axis='x', rotation=45)

plt.subplots_adjust(hspace=0.5, wspace=0.3)
plt.show()

plt.figure(figsize=(6, 6))
df['Marca'].value_counts().plot.pie(autopct='%1.1f%%')
plt.title('Gráfico de Pizza')
plt.show()

plt.figure(figsize=(8, 5))
sns.kdeplot(df['Nota'], shade=True)
plt.title('Gráfico de Densidade')
plt.show()

plt.figure(figsize=(8, 6))
sns.regplot(x=df['N_Avaliações'], y=df['Preço'])
plt.title('Gráfico de Regressão')
plt.show()
